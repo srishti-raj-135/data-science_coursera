{
 "cells": [
  {
   "cell_type": "markdown",
   "id": "6fd75227-452d-48d3-8518-cd94ab2e4c09",
   "metadata": {},
   "source": [
    "# Data Science Ecosystem"
   ]
  },
  {
   "cell_type": "markdown",
   "id": "bf1e07be-f2e2-4d1e-b7e6-915c1b3fed29",
   "metadata": {},
   "source": [
    "##### In this notebook, Data Science Tools and Ecosystem are summarized\n",
    "- List popular languages for Data Science\n",
    "- Identify commonly used libraries in Data Science\n",
    "- Describe open-source development environment tool used in Data Science"
   ]
  },
  {
   "cell_type": "markdown",
   "id": "d2df6bd7-6404-4437-9126-400e44e938b9",
   "metadata": {},
   "source": [
    "##### Some of the popular language that Data Scientists use are:\n",
    "1. Python\n",
    "2. R\n",
    "3. SQL"
   ]
  },
  {
   "cell_type": "markdown",
   "id": "9a1cfb09-eaa5-44c0-bcc2-0b2df634f322",
   "metadata": {},
   "source": [
    "##### Some of the commonly used libraries used by Data Scientists include:\n",
    "1. Pandas\n",
    "2. NumPy\n",
    "3. scikit-learn"
   ]
  },
  {
   "cell_type": "markdown",
   "id": "cf236d84-a2d5-4002-a938-8b90cf7c39d3",
   "metadata": {},
   "source": [
    "|Data Science Tools| \n",
    "| ------ |\n",
    "|Jupyter Notebook|\n",
    "|VSCode|\n",
    "|RStudio|"
   ]
  },
  {
   "cell_type": "markdown",
   "id": "ef64a6a8-6e5d-477c-b087-4cb8c0ae3cc9",
   "metadata": {},
   "source": [
    "### Bellow are few examples of evaluating arithmetic expressions in Python."
   ]
  },
  {
   "cell_type": "code",
   "execution_count": 2,
   "id": "d3db3c98-e47f-4b02-b3f0-45fdb8660b37",
   "metadata": {},
   "outputs": [
    {
     "data": {
      "text/plain": [
       "17"
      ]
     },
     "execution_count": 2,
     "metadata": {},
     "output_type": "execute_result"
    }
   ],
   "source": [
    "#This a simple arithmetic expression to multiply then add integers\n",
    "(3*4)+5"
   ]
  },
  {
   "cell_type": "code",
   "execution_count": 5,
   "id": "aeb85ffe-330f-4afd-9d2f-7f09ccba6bfd",
   "metadata": {},
   "outputs": [
    {
     "data": {
      "text/plain": [
       "3.3333333333333335"
      ]
     },
     "execution_count": 5,
     "metadata": {},
     "output_type": "execute_result"
    }
   ],
   "source": [
    "#This will convert 200 minutes to hours by dividing by 60\n",
    "200/60 "
   ]
  },
  {
   "cell_type": "markdown",
   "id": "224e08df-bfea-4c3d-bb0a-59aba44b3c08",
   "metadata": {},
   "source": [
    "## Autor\n",
    "Miguel Angel Paba Santiago"
   ]
  },
  {
   "cell_type": "code",
   "execution_count": null,
   "id": "fc6d906c-e045-4d15-a46c-0168534065d4",
   "metadata": {},
   "outputs": [],
   "source": []
  }
 ],
 "metadata": {
  "kernelspec": {
   "display_name": "Python [conda env:base] *",
   "language": "python",
   "name": "conda-base-py"
  },
  "language_info": {
   "codemirror_mode": {
    "name": "ipython",
    "version": 3
   },
   "file_extension": ".py",
   "mimetype": "text/x-python",
   "name": "python",
   "nbconvert_exporter": "python",
   "pygments_lexer": "ipython3",
   "version": "3.13.5"
  }
 },
 "nbformat": 4,
 "nbformat_minor": 5
}
